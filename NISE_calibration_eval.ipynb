{
 "cells": [
  {
   "cell_type": "markdown",
   "metadata": {
    "toc": true
   },
   "source": [
    "<h1>Table of Contents<span class=\"tocSkip\"></span></h1>\n",
    "<div class=\"toc\"><ul class=\"toc-item\"></ul></div>"
   ]
  },
  {
   "cell_type": "code",
   "execution_count": 1,
   "metadata": {
    "collapsed": true
   },
   "outputs": [],
   "source": [
    "# General Import\n",
    "import numpy as np\n",
    "import pandas as pd\n",
    "from scipy.stats import norm, beta, ttest_ind\n",
    "from sklearn.preprocessing import normalize\n",
    "import matplotlib.pyplot as plt\n",
    "%matplotlib inline"
   ]
  },
  {
   "cell_type": "code",
   "execution_count": 2,
   "metadata": {
    "collapsed": false
   },
   "outputs": [],
   "source": [
    "# Data import\n",
    "ei_data = pd.read_csv('Data Raja/Raja2.csv', delimiter=';')"
   ]
  },
  {
   "cell_type": "code",
   "execution_count": 3,
   "metadata": {
    "collapsed": false
   },
   "outputs": [],
   "source": [
    "# Determinition time intervalls\n",
    "start_base = 0\n",
    "end_base   = 17\n",
    "\n",
    "start_relax = 23\n",
    "end_relax   = 37\n",
    "\n",
    "start_attent = 43\n",
    "end_attent   = 57\n",
    "\n",
    "start_base_id = int(ei_data.loc[ei_data['Time (s)'] == start_base].index[0])\n",
    "end_base_id = int(ei_data.loc[ei_data['Time (s)'] == end_base].index[0])\n",
    "\n",
    "start_relax_id = int(ei_data.loc[ei_data['Time (s)'] == start_relax].index[0])\n",
    "end_relax_id = int(ei_data.loc[ei_data['Time (s)'] == end_relax].index[0])\n",
    "\n",
    "start_attent_id = int(ei_data.loc[ei_data['Time (s)'] == start_attent].index[0])\n",
    "end_attent_id = int(ei_data.loc[ei_data['Time (s)'] == end_attent].index[0])\n"
   ]
  },
  {
   "cell_type": "code",
   "execution_count": 4,
   "metadata": {
    "collapsed": false
   },
   "outputs": [],
   "source": [
    "base = ei_data[start_base_id:end_base_id].values[:,1]\n",
    "rela = ei_data[start_relax_id:end_relax_id].values[:,1]\n",
    "atte = ei_data[start_attent_id:end_attent_id].values[:,1]"
   ]
  },
  {
   "cell_type": "code",
   "execution_count": 5,
   "metadata": {
    "collapsed": false
   },
   "outputs": [
    {
     "name": "stdout",
     "output_type": "stream",
     "text": [
      "Ttest_indResult(statistic=1.1261620234655063, pvalue=0.26230732288820496)\n",
      "Ttest_indResult(statistic=-1.9965864647988634, pvalue=0.04809638139485811)\n",
      "Ttest_indResult(statistic=-2.921429030508306, pvalue=0.0042289646763664385)\n"
     ]
    }
   ],
   "source": [
    "# Testing of significant differences against each other individually\n",
    "print(ttest_ind(base.ravel(), rela.ravel()))\n",
    "print(ttest_ind(base.ravel(), atte.ravel()))\n",
    "print(ttest_ind(rela.ravel(), atte.ravel()))"
   ]
  },
  {
   "cell_type": "code",
   "execution_count": 6,
   "metadata": {
    "collapsed": false
   },
   "outputs": [
    {
     "name": "stdout",
     "output_type": "stream",
     "text": [
      "Ttest_indResult(statistic=2.8579637394903386, pvalue=0.004772267663923616)\n",
      "Ttest_indResult(statistic=-2.212821865994969, pvalue=0.02818162302928482)\n",
      "Ttest_indResult(statistic=-2.921429030508306, pvalue=0.0042289646763664385)\n",
      "Ttest_indResult(statistic=-1.9965864647988634, pvalue=0.04809638139485811)\n"
     ]
    }
   ],
   "source": [
    "# Determination of grouping of the calibration sections for decisivness of the EI for gaming\n",
    "# Option 1 (mostly observed so far)\n",
    "print(ttest_ind(atte.ravel(),np.hstack((base,rela)).ravel()))\n",
    "\n",
    "# Option 2\n",
    "print(ttest_ind(rela.ravel(),np.hstack((base,atte)).ravel()))\n",
    "\n",
    "# Option 3\n",
    "print(ttest_ind(rela.ravel(),np.hstack((atte)).ravel()))\n",
    "\n",
    "# Option 4\n",
    "print(ttest_ind(base.ravel(),np.hstack((atte)).ravel()))"
   ]
  },
  {
   "cell_type": "code",
   "execution_count": 7,
   "metadata": {
    "collapsed": false
   },
   "outputs": [
    {
     "name": "stderr",
     "output_type": "stream",
     "text": [
      "C:\\Users\\Chris\\Anaconda3\\lib\\site-packages\\scipy\\stats\\_continuous_distns.py:437: RuntimeWarning: invalid value encountered in sqrt\n",
      "  sk = 2*(b-a)*np.sqrt(a + b + 1) / (a + b + 2) / np.sqrt(a*b)\n"
     ]
    }
   ],
   "source": [
    "#Option 1 \n",
    "params1 = beta.fit(atte.ravel())\n",
    "params2 = beta.fit(np.hstack((base,rela)).ravel())\n",
    "\n",
    "# Option 2\n",
    "#params1 = beta.fit(np.hstack((base, atte)).ravel())\n",
    "#params2 = beta.fit(rela.ravel())\n",
    "\n",
    "# Option 3\n",
    "#params1 = beta.fit(np.hstack((atte)).ravel())\n",
    "#params2 = beta.fit(rela.ravel())\n",
    "\n",
    "# Option 4\n",
    "#params1 = beta.fit(np.hstack((atte)).ravel())\n",
    "#params2 = beta.fit(base.ravel())\n"
   ]
  },
  {
   "cell_type": "code",
   "execution_count": 11,
   "metadata": {
    "collapsed": false
   },
   "outputs": [
    {
     "name": "stdout",
     "output_type": "stream",
     "text": [
      "Percentile_10 threshold: \t\t 1.18\n",
      "Remaining tail_prob atte: \t\t 0.23\n",
      "Remaining tail_prob base/rela: \t\t 0.08\n",
      "Engagement discrimination factor: \t 2.89\n"
     ]
    },
    {
     "data": {
      "image/png": "[encoded data removed]",
      "text/plain": [
       "<Figure size 432x288 with 1 Axes>"
      ]
     },
     "metadata": {},
     "output_type": "display_data"
    }
   ],
   "source": [
    "x=np.linspace(0,4,40)\n",
    "\n",
    "### HISTOGRAMS & PLOTS ###\n",
    "# Option 1\n",
    "\n",
    "plt.hist([atte.ravel(),np.hstack((base, rela)).ravel()], \n",
    "         bins=30, label=['atte','base/rela'], density=True)\n",
    "plt.plot(x,beta.pdf(x,params1[0], params1[1], loc=params1[2], scale=params1[3]), label='fitted atte')\n",
    "plt.plot(x,beta.pdf(x,params2[0], params2[1], loc=params2[2], scale=params2[3]), label='fitted base/rela')\n",
    "#thres = np.percentile(atte.ravel(),90)\n",
    "thres = np.percentile(np.hstack((base, rela)).ravel(),90)\n",
    "tail_prob1_name=\"atte\"\n",
    "tail_prob2_name=\"base/rela\"\n",
    "\n",
    "\n",
    "# Option 2\n",
    "'''\n",
    "plt.hist([rela.ravel(),np.hstack((base, atte)).ravel()], \n",
    "         bins=30, label=['relaxed','base/atte'], density=True)\n",
    "plt.plot(x,beta.pdf(x,params1[0], params1[1], loc=params1[2], scale=params1[3]), label='fitted base/atte')\n",
    "plt.plot(x,beta.pdf(x,params2[0], params2[1], loc=params2[2], scale=params2[3]), label='fitted rela')\n",
    "thres = np.percentile(np.hstack((atte,base)).ravel(),90)\n",
    "tail_prob1_name=\"base/atte\"\n",
    "tail_prob2_name=\"rela\"\n",
    "'''\n",
    "\n",
    "# Option 3\n",
    "'''\n",
    "plt.hist([rela.ravel(),np.hstack((atte)).ravel()], \n",
    "         bins=30, label=['relaxed','atte'], density=True)\n",
    "plt.plot(x,beta.pdf(x,params1[0], params1[1], loc=params1[2], scale=params1[3]), label='fitted atte')\n",
    "plt.plot(x,beta.pdf(x,params2[0], params2[1], loc=params2[2], scale=params2[3]), label='fitted rela')\n",
    "thres = np.percentile(atte.ravel(),90)\n",
    "tail_prob1_name=\"atte\"\n",
    "tail_prob2_name=\"rela\"\n",
    "'''\n",
    "\n",
    "# Option 4\n",
    "'''\n",
    "plt.hist([base.ravel(),np.hstack((atte)).ravel()], \n",
    "         bins=30, label=['base','atte'], density=True)\n",
    "plt.plot(x,beta.pdf(x,params1[0], params1[1], loc=params1[2], scale=params1[3]), label='fitted atte')\n",
    "plt.plot(x,beta.pdf(x,params2[0], params2[1], loc=params2[2], scale=params2[3]), label='fitted base')\n",
    "thres = np.percentile(atte.ravel(),90)\n",
    "tail_prob1_name=\"atte\"\n",
    "tail_prob2_name=\"base\"\n",
    "'''\n",
    "\n",
    "### PRINTING ###\n",
    "tail_prob1 = 1-beta.cdf(thres,params1[0], params1[1], loc=params1[2], scale=params1[3])\n",
    "tail_prob2 = 1-beta.cdf(thres,params2[0], params2[1], loc=params2[2], scale=params2[3])\n",
    "\n",
    "print('Percentile_10 threshold: \\t\\t', np.round(thres,2))\n",
    "print('Remaining tail_prob {}: \\t\\t'.format(tail_prob1_name), np.round(tail_prob1,2))\n",
    "print('Remaining tail_prob {}: \\t\\t'.format(tail_prob2_name), np.round(tail_prob2,2))\n",
    "print('Engagement discrimination factor: \\t', np.round(tail_prob1 / tail_prob2,2))\n",
    "\n",
    "plt.vlines(thres,0,1,color='black', label='threshold')\n",
    "plt.plot(thres,1,'o', color='black')\n",
    "#plt.title('Engagement Indices during calibration trial')\n",
    "plt.xlabel('Engagement Index')\n",
    "plt.ylabel('Relative probability density')\n",
    "plt.legend()\n",
    "plt.annotate('Threshold: {}\\nEDF: {}'.format(np.round(thres,2), np.round(tail_prob1 / tail_prob2,2)), (2.7,1.1))\n",
    "plt.show()"
   ]
  }
 ],
 "metadata": {
  "kernelspec": {
   "display_name": "Python [conda env:Anaconda3]",
   "language": "python",
   "name": "conda-env-Anaconda3-py"
  },
  "language_info": {
   "codemirror_mode": {
    "name": "ipython",
    "version": 3
   },
   "file_extension": ".py",
   "mimetype": "text/x-python",
   "name": "python",
   "nbconvert_exporter": "python",
   "pygments_lexer": "ipython3",
   "version": "3.5.6"
  },
  "toc": {
   "base_numbering": 1,
   "nav_menu": {},
   "number_sections": true,
   "sideBar": true,
   "skip_h1_title": false,
   "title_cell": "Table of Contents",
   "title_sidebar": "Contents",
   "toc_cell": true,
   "toc_position": {},
   "toc_section_display": true,
   "toc_window_display": false
  }
 },
 "nbformat": 4,
 "nbformat_minor": 2
}
