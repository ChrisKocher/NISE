{
 "cells": [
  {
   "cell_type": "markdown",
   "metadata": {
    "toc": true
   },
   "source": [
    "<h1>Table of Contents<span class=\"tocSkip\"></span></h1>\n",
    "<div class=\"toc\"><ul class=\"toc-item\"><li><span><a href=\"#MI-Data-Analysis---Offline\" data-toc-modified-id=\"MI-Data-Analysis---Offline-1\"><span class=\"toc-item-num\">1&nbsp;&nbsp;</span>MI Data Analysis - Offline</a></span></li><li><span><a href=\"#Load-BV-Data\" data-toc-modified-id=\"Load-BV-Data-2\"><span class=\"toc-item-num\">2&nbsp;&nbsp;</span>Load BV Data</a></span></li><li><span><a href=\"#Load-OV-Data\" data-toc-modified-id=\"Load-OV-Data-3\"><span class=\"toc-item-num\">3&nbsp;&nbsp;</span>Load OV Data</a></span></li><li><span><a href=\"#Data-Analysis---CV\" data-toc-modified-id=\"Data-Analysis---CV-4\"><span class=\"toc-item-num\">4&nbsp;&nbsp;</span>Data Analysis - CV</a></span></li><li><span><a href=\"#ROC-Evaluation\" data-toc-modified-id=\"ROC-Evaluation-5\"><span class=\"toc-item-num\">5&nbsp;&nbsp;</span>ROC Evaluation</a></span></li><li><span><a href=\"#Online-analysis\" data-toc-modified-id=\"Online-analysis-6\"><span class=\"toc-item-num\">6&nbsp;&nbsp;</span>Online analysis</a></span></li></ul></div>"
   ]
  },
  {
   "cell_type": "markdown",
   "metadata": {},
   "source": [
    "# MI Data Analysis - Offline"
   ]
  },
  {
   "cell_type": "code",
   "execution_count": 11,
   "metadata": {
    "collapsed": true
   },
   "outputs": [],
   "source": [
    "import matplotlib.pyplot as plt\n",
    "import numpy as np\n",
    "import scipy.io as sio\n",
    "import pyriemann\n",
    "from sklearn.model_selection import cross_val_score, LeaveOneOut\n",
    "\n",
    "from pyriemann.estimation import Covariances\n",
    "from pyriemann.tangentspace import TangentSpace\n",
    "\n",
    "from sklearn.pipeline import make_pipeline\n",
    "from sklearn.svm import SVC\n",
    "from sklearn.metrics import roc_curve, auc\n",
    "from sklearn.model_selection import cross_val_score, KFold, train_test_split\n",
    "from sklearn.pipeline import Pipeline\n",
    "from sklearn.linear_model import LogisticRegression\n",
    "\n",
    "%matplotlib inline"
   ]
  },
  {
   "cell_type": "markdown",
   "metadata": {},
   "source": [
    "# Load BV Data"
   ]
  },
  {
   "cell_type": "code",
   "execution_count": 13,
   "metadata": {
    "collapsed": false
   },
   "outputs": [
    {
     "name": "stdout",
     "output_type": "stream",
     "text": [
      "(100, 13, 301)\n",
      "(100,)\n"
     ]
    }
   ],
   "source": [
    "EPO = sio.loadmat('Data MI\\s01_CAR_t50_350.mat')\n",
    "#EPO = sio.loadmat('mat_data\\stest1_CAR_t50_350.mat')\n",
    "\n",
    "X = EPO['fdata_riem']\n",
    "X = np.transpose(X,(2,0,1))  # Ntrials x Nchannels X Nsamples\n",
    "y = EPO['labels'].flatten()\n",
    "print(X.shape)\n",
    "print(y.shape)"
   ]
  },
  {
   "cell_type": "code",
   "execution_count": 15,
   "metadata": {
    "collapsed": false
   },
   "outputs": [
    {
     "name": "stdout",
     "output_type": "stream",
     "text": [
      "(40, 13, 301)\n",
      "(40,)\n"
     ]
    }
   ],
   "source": [
    "EPO2 = sio.loadmat('Data MI\\s03_CAR_t50_350.mat')\n",
    "\n",
    "X2 = EPO2['fdata_riem']\n",
    "X2 = np.transpose(X2,(2,0,1))\n",
    "X2 = X2[:,[0,1,3,4,5,6,7,8,9,10,11,12,13],:]# Ntrials x Nchannels X Nsamples\n",
    "y2 = EPO2['labels'].flatten()\n",
    "print(X2.shape)\n",
    "print(y2.shape)"
   ]
  },
  {
   "cell_type": "code",
   "execution_count": 17,
   "metadata": {
    "collapsed": false
   },
   "outputs": [],
   "source": [
    "X_bv_all = np.vstack((X,X2))\n",
    "y_bv_all = np.hstack((y,y2))"
   ]
  },
  {
   "cell_type": "code",
   "execution_count": 18,
   "metadata": {
    "collapsed": false
   },
   "outputs": [],
   "source": [
    "X_bv_single = X\n",
    "y_bv_single = y"
   ]
  },
  {
   "cell_type": "markdown",
   "metadata": {},
   "source": [
    "# Load OV Data"
   ]
  },
  {
   "cell_type": "code",
   "execution_count": 19,
   "metadata": {
    "collapsed": false
   },
   "outputs": [
    {
     "name": "stdout",
     "output_type": "stream",
     "text": [
      "(60, 14, 301)\n",
      "(60,)\n"
     ]
    }
   ],
   "source": [
    "EPO1_ov = sio.loadmat('Data MI\\\\stest1_CAR_t50_350.mat')\n",
    "\n",
    "X1_ov = EPO1_ov['fdata_riem']\n",
    "X1_ov = np.transpose(X1_ov,(2,0,1))  # Ntrials x Nchannels X Nsamples\n",
    "y1_ov = EPO1_ov['labels'].flatten()\n",
    "print(X1_ov.shape)\n",
    "print(y1_ov.shape)"
   ]
  },
  {
   "cell_type": "code",
   "execution_count": 20,
   "metadata": {
    "collapsed": false
   },
   "outputs": [
    {
     "name": "stdout",
     "output_type": "stream",
     "text": [
      "(50, 14, 301)\n",
      "(50,)\n"
     ]
    }
   ],
   "source": [
    "EPO2_ov = sio.loadmat('Data MI\\stest2_CAR_t50_350.mat')\n",
    "\n",
    "X2_ov = EPO2_ov['fdata_riem']\n",
    "X2_ov = np.transpose(X2_ov,(2,0,1))\n",
    "y2_ov = EPO2_ov['labels'].flatten()\n",
    "print(X2_ov.shape)\n",
    "print(y2_ov.shape)"
   ]
  },
  {
   "cell_type": "code",
   "execution_count": 21,
   "metadata": {
    "collapsed": false
   },
   "outputs": [
    {
     "name": "stdout",
     "output_type": "stream",
     "text": [
      "(50, 14, 301)\n",
      "(50,)\n"
     ]
    }
   ],
   "source": [
    "EPO3_ov = sio.loadmat('Data MI\\stest3_CAR_t50_350.mat')\n",
    "\n",
    "X3_ov = EPO3_ov['fdata_riem']\n",
    "X3_ov = np.transpose(X3_ov,(2,0,1))\n",
    "y3_ov = EPO3_ov['labels'].flatten()\n",
    "print(X3_ov.shape)\n",
    "print(y3_ov.shape)"
   ]
  },
  {
   "cell_type": "code",
   "execution_count": 22,
   "metadata": {
    "collapsed": false
   },
   "outputs": [
    {
     "name": "stdout",
     "output_type": "stream",
     "text": [
      "(40, 14, 301)\n",
      "(40,)\n"
     ]
    }
   ],
   "source": [
    "EPO4_ov = sio.loadmat('Data MI\\stest4_CAR_t50_350.mat')\n",
    "\n",
    "X4_ov = EPO4_ov['fdata_riem']\n",
    "X4_ov = np.transpose(X4_ov,(2,0,1))\n",
    "y4_ov = EPO4_ov['labels'].flatten()\n",
    "print(X4_ov.shape)\n",
    "print(y4_ov.shape)"
   ]
  },
  {
   "cell_type": "code",
   "execution_count": 23,
   "metadata": {
    "collapsed": false
   },
   "outputs": [],
   "source": [
    "X_ov_single = X1_ov\n",
    "y_ov_single = y1_ov"
   ]
  },
  {
   "cell_type": "code",
   "execution_count": 24,
   "metadata": {
    "collapsed": true
   },
   "outputs": [],
   "source": [
    "X_ov_all = np.vstack((X1_ov,X2_ov,X3_ov, X4_ov))\n",
    "y_ov_all = np.hstack((y1_ov,y2_ov,y3_ov, y4_ov))"
   ]
  },
  {
   "cell_type": "markdown",
   "metadata": {},
   "source": [
    "# Data Analysis - CV"
   ]
  },
  {
   "cell_type": "code",
   "execution_count": 25,
   "metadata": {
    "collapsed": false
   },
   "outputs": [
    {
     "name": "stdout",
     "output_type": "stream",
     "text": [
      "(140, 13, 13)\n",
      "Tangent space Classification accuracy: 0.621429 / Chance level: 0.500000\n"
     ]
    }
   ],
   "source": [
    "#BV data single\n",
    "#cov_data_train = Covariances(estimator='lwf').transform(X_bv_single[:,:,:])\n",
    "#labels = y_bv_single\n",
    "\n",
    "#BV data all\n",
    "cov_data_train = Covariances(estimator='lwf').transform(X_bv_all[:,:,:])\n",
    "labels = y_bv_all\n",
    "\n",
    "#OV data single\n",
    "#cov_data_train = Covariances(estimator='lwf').transform(X_ov_single[:,:,:])\n",
    "#labels = y_ov_single\n",
    "\n",
    "#OV data all\n",
    "#cov_data_train = Covariances(estimator='lwf').transform(X_ov_all[:,:,:])\n",
    "#labels = y_ov_all\n",
    "\n",
    "print(cov_data_train.shape)\n",
    "\n",
    "\n",
    "# Classification pipeline\n",
    "ts = TangentSpace()\n",
    "svc = SVC(C=1,kernel='linear', probability=True)\n",
    "\n",
    "clf = make_pipeline(ts,svc)\n",
    "cv = KFold(n_splits=10,shuffle=True, random_state=42)\n",
    "scores = cross_val_score(clf, cov_data_train, labels, cv=cv, n_jobs=1)\n",
    "\n",
    "# Printing the results\n",
    "class_balance = np.mean(labels == labels[0])\n",
    "class_balance = max(class_balance, 1. - class_balance)\n",
    "print(\"Tangent space Classification accuracy: %f / Chance level: %f\" %\n",
    "      (np.mean(scores), class_balance))"
   ]
  },
  {
   "cell_type": "markdown",
   "metadata": {},
   "source": [
    "# ROC Evaluation"
   ]
  },
  {
   "cell_type": "code",
   "execution_count": 26,
   "metadata": {
    "code_folding": [],
    "collapsed": false
   },
   "outputs": [],
   "source": [
    "#Build classification pipeline\n",
    "ts = TangentSpace()\n",
    "ts2 = TangentSpace()\n",
    "#ts = CSP(n_components=15)\n",
    "svc = SVC(C=1,kernel='linear', probability=True)\n",
    "clf1 = make_pipeline(ts,svc)\n",
    "clf2 = make_pipeline(ts2,svc)\n"
   ]
  },
  {
   "cell_type": "code",
   "execution_count": 27,
   "metadata": {
    "collapsed": true
   },
   "outputs": [],
   "source": [
    "#BV_single\n",
    "cov_data_train_bvSingle = Covariances(estimator='lwf').transform(X_bv_single[:,:,:])\n",
    "X_train_bvS, X_test_bvS, y_train_bvS, y_test_bvS = train_test_split(cov_data_train_bvSingle,y_bv_single,\n",
    "                                                                    test_size=0.3,random_state=42)\n",
    "clf1.fit(X_train_bvS, y_train_bvS)\n",
    "pred_bvS = clf1.predict_proba(X_test_bvS)\n",
    "tpr_bvS, fpr_bvS,_ = roc_curve(y_test_bvS, pred_bvS[:,1])"
   ]
  },
  {
   "cell_type": "code",
   "execution_count": 28,
   "metadata": {
    "collapsed": true
   },
   "outputs": [],
   "source": [
    "#BV_all\n",
    "cov_data_train_bvAll = Covariances(estimator='lwf').transform(X_bv_all[:,:,:])\n",
    "X_train_bvA, X_test_bvA, y_train_bvA, y_test_bvA = train_test_split(cov_data_train_bvAll,y_bv_all,\n",
    "                                                                    test_size=0.2,random_state=42)\n",
    "clf1.fit(X_train_bvA, y_train_bvA)\n",
    "pred_bvA = clf1.predict_proba(X_test_bvA)\n",
    "tpr_bvA, fpr_bvA,_ = roc_curve(y_test_bvA, pred_bvA[:,1])\n"
   ]
  },
  {
   "cell_type": "code",
   "execution_count": 29,
   "metadata": {
    "collapsed": true
   },
   "outputs": [],
   "source": [
    "#OV_single\n",
    "cov_data_train_ovSingle = Covariances(estimator='lwf').transform(X_ov_single[:,:,:])\n",
    "X_train_ovS, X_test_ovS, y_train_ovS, y_test_ovS = train_test_split(cov_data_train_ovSingle,y_ov_single,\n",
    "                                                                    test_size=0.2,random_state=41)\n",
    "clf2.fit(X_train_ovS, y_train_ovS)\n",
    "pred_ovS = clf2.predict_proba(X_test_ovS)\n",
    "tpr_ovS, fpr_ovS,_ = roc_curve(y_test_ovS, pred_ovS[:,1])"
   ]
  },
  {
   "cell_type": "code",
   "execution_count": 30,
   "metadata": {
    "collapsed": true
   },
   "outputs": [],
   "source": [
    "#OV_all\n",
    "cov_data_train_ovAll = Covariances(estimator='lwf').transform(X_ov_all[:,:,:])\n",
    "X_train_ovA, X_test_ovA, y_train_ovA, y_test_ovA = train_test_split(cov_data_train_ovAll,y_ov_all,\n",
    "                                                                    test_size=0.2,random_state=42)\n",
    "clf2.fit(X_train_ovA, y_train_ovA)\n",
    "pred_ovA = clf2.predict_proba(X_test_ovA)\n",
    "tpr_ovA, fpr_ovA,_ = roc_curve(y_test_ovA, pred_ovA[:,1])"
   ]
  },
  {
   "cell_type": "code",
   "execution_count": 33,
   "metadata": {
    "collapsed": false
   },
   "outputs": [],
   "source": [
    "# Online data - see section at the bottom\n",
    "\n",
    "#for ROC\n",
    "gt_roc = np.load('Data MI\\groundtruth_2019-01-29 20-44.npy')\n",
    "pred_roc = np.load('Data MI\\prediction_2019-01-29 20-44.npy')\n",
    "\n",
    "tpr_onl, fpr_onl, _ = roc_curve(gt_roc[220::], pred_roc[:])"
   ]
  },
  {
   "cell_type": "code",
   "execution_count": 35,
   "metadata": {
    "collapsed": false
   },
   "outputs": [
    {
     "data": {
      "image/png": "[encoded data removed]",
      "text/plain": [
       "<Figure size 432x288 with 1 Axes>"
      ]
     },
     "metadata": {},
     "output_type": "display_data"
    }
   ],
   "source": [
    "plt.plot(tpr_bvS,fpr_bvS, label='bvS, AUC: {}'.format(np.round(auc(tpr_bvS, fpr_bvS),2)))\n",
    "plt.plot(tpr_bvA,fpr_bvA, label='bvA, AUC: {}'.format(np.round(auc(tpr_bvA, fpr_bvA),2)))\n",
    "plt.plot(tpr_ovS,fpr_ovS, label='ovS, AUC: {}'.format(np.round(auc(tpr_ovS, fpr_ovS),2)))\n",
    "plt.plot(tpr_ovA,fpr_ovA, label='ovA, AUC: {}'.format(np.round(auc(tpr_ovA, fpr_ovA),2)))\n",
    "plt.plot(tpr_onl, fpr_onl, label='onl, AUC: {}'.format(np.round(auc(tpr_onl, fpr_onl),2)))\n",
    "plt.plot([0,1],[0,1], linestyle='--', color = 'gray')\n",
    "plt.xlabel('True positive rate')\n",
    "plt.ylabel('False positive rate')\n",
    "#plt.title('Classification results of different data sets and combinations')\n",
    "plt.legend()\n",
    "plt.show()"
   ]
  },
  {
   "cell_type": "markdown",
   "metadata": {},
   "source": [
    "# Online analysis"
   ]
  },
  {
   "cell_type": "code",
   "execution_count": 5,
   "metadata": {
    "collapsed": false
   },
   "outputs": [],
   "source": [
    "#predictions for accuracy over time\n",
    "gt_timeAcc = np.load('Data Online/groundtruth_2019-01-29 21-37.npy')\n",
    "pred_timeAcc = np.load('Data Online/prediction_2019-01-29 21-37.npy')\n"
   ]
  },
  {
   "cell_type": "code",
   "execution_count": 6,
   "metadata": {
    "collapsed": false
   },
   "outputs": [],
   "source": [
    "length_diff = len(gt_timeAcc) - len(pred_timeAcc)\n",
    "acc_points = 0\n",
    "acc_time = []\n",
    "for i in range(len(pred_timeAcc)):\n",
    "    if(pred_timeAcc[i] == gt_timeAcc[i+length_diff]):\n",
    "        acc_points += 1\n",
    "    acc_time.append(acc_points/(i+1))"
   ]
  },
  {
   "cell_type": "code",
   "execution_count": 36,
   "metadata": {
    "collapsed": false
   },
   "outputs": [
    {
     "data": {
      "image/png": "[encoded data removed]",
      "text/plain": [
       "<Figure size 432x288 with 1 Axes>"
      ]
     },
     "metadata": {},
     "output_type": "display_data"
    }
   ],
   "source": [
    "plt.plot(acc_time, label='Trial')\n",
    "#plt.title('Accuracy over time pseudo-online analysis')\n",
    "plt.xlabel('Epochs')\n",
    "plt.ylabel('Accuracy')\n",
    "plt.ylim([0,0.75])\n",
    "plt.hlines(np.mean(acc_time[100::]),0,462, linestyle = '--', color='orange', label='Avg accuracy')\n",
    "plt.hlines(0.5,0,462,linestyle='--', color='gray', label='Chance')\n",
    "plt.annotate('Accuracy: {}'.format(np.round(np.mean(acc_time[100::]),2)),(5,0.6), color='black')\n",
    "plt.legend()\n",
    "plt.show()"
   ]
  }
 ],
 "metadata": {
  "kernelspec": {
   "display_name": "Python [default]",
   "language": "python",
   "name": "python3"
  },
  "language_info": {
   "codemirror_mode": {
    "name": "ipython",
    "version": 3
   },
   "file_extension": ".py",
   "mimetype": "text/x-python",
   "name": "python",
   "nbconvert_exporter": "python",
   "pygments_lexer": "ipython3",
   "version": "3.5.6"
  },
  "toc": {
   "base_numbering": 1,
   "nav_menu": {},
   "number_sections": true,
   "sideBar": true,
   "skip_h1_title": false,
   "title_cell": "Table of Contents",
   "title_sidebar": "Contents",
   "toc_cell": true,
   "toc_position": {},
   "toc_section_display": true,
   "toc_window_display": false
  }
 },
 "nbformat": 4,
 "nbformat_minor": 2
}
