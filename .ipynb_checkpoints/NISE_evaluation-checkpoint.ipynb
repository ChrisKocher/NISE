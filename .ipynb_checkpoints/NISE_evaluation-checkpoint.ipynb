{
 "cells": [
  {
   "cell_type": "markdown",
   "metadata": {
    "toc": true
   },
   "source": [
    "<h1>Table of Contents<span class=\"tocSkip\"></span></h1>\n",
    "<div class=\"toc\"><ul class=\"toc-item\"><li><span><a href=\"#EI-baseline-evaluation\" data-toc-modified-id=\"EI-baseline-evaluation-1\"><span class=\"toc-item-num\">1&nbsp;&nbsp;</span>EI baseline evaluation</a></span></li></ul></div>"
   ]
  },
  {
   "cell_type": "markdown",
   "metadata": {},
   "source": [
    "# EI baseline evaluation"
   ]
  },
  {
   "cell_type": "code",
   "execution_count": 2,
   "metadata": {
    "collapsed": true
   },
   "outputs": [],
   "source": [
    "import pandas as pd\n",
    "import numpy as np\n",
    "import matplotlib.pyplot as plt\n",
    "%matplotlib inline\n",
    "from scipy import stats"
   ]
  },
  {
   "cell_type": "code",
   "execution_count": 3,
   "metadata": {
    "collapsed": false
   },
   "outputs": [],
   "source": [
    "ei = pd.read_csv('Data Raja/Raja1.csv', delimiter=';')\n",
    "ei_r1 = pd.read_csv('Data Raja/Raja1.csv', delimiter=';')\n",
    "ei_r2 = pd.read_csv('Data Raja/Raja2.csv', delimiter=';')\n",
    "ei_r3 = pd.read_csv('Data Raja/Raja3.csv', delimiter=';')\n",
    "ei_r4 = pd.read_csv('Data Raja/Raja4.csv', delimiter=';')\n",
    "ei_r5 = pd.read_csv('Data Raja/Raja5.csv', delimiter=';')"
   ]
  },
  {
   "cell_type": "code",
   "execution_count": 74,
   "metadata": {
    "collapsed": true
   },
   "outputs": [],
   "source": [
    "ei = pd.read_csv('NISE/Data Raja/Raja1.csv', delimiter=';')\n",
    "ei_r1 = pd.read_csv('NISE/Data Raja/Malek1.csv', delimiter=';')\n",
    "ei_r2 = pd.read_csv('NISE/Data Raja/Malek2.csv', delimiter=';')\n",
    "ei_r3 = pd.read_csv('NISE/Data Raja/Malek3.csv', delimiter=';')\n",
    "ei_r4 = pd.read_csv('NISE/Data Raja/Malek4.csv', delimiter=';')\n",
    "ei_r5 = pd.read_csv('NISE/Data Raja/Malek5.csv', delimiter=';')"
   ]
  },
  {
   "cell_type": "code",
   "execution_count": 4,
   "metadata": {
    "collapsed": false
   },
   "outputs": [
    {
     "name": "stdout",
     "output_type": "stream",
     "text": [
      "(5, 246)\n"
     ]
    }
   ],
   "source": [
    "from sklearn.preprocessing import normalize\n",
    "\n",
    "ei_r1_normed = normalize(ei_r1.values[0:246,1].reshape(1,-1))\n",
    "ei_r2_normed = normalize(ei_r2.values[0:246,1].reshape(1,-1))\n",
    "ei_r3_normed = normalize(ei_r3.values[0:246,1].reshape(1,-1))\n",
    "ei_r4_normed = normalize(ei_r4.values[0:246,1].reshape(1,-1))\n",
    "ei_r5_normed = normalize(ei_r5.values[0:246,1].reshape(1,-1))\n",
    "\n",
    "ei_r = np.vstack((ei_r1_normed,ei_r2_normed,ei_r3_normed,ei_r4_normed,ei_r5_normed ))\n",
    "print(ei_r.shape)"
   ]
  },
  {
   "cell_type": "code",
   "execution_count": 5,
   "metadata": {
    "collapsed": false
   },
   "outputs": [
    {
     "name": "stdout",
     "output_type": "stream",
     "text": [
      "(5, 246)\n"
     ]
    }
   ],
   "source": [
    "ei_r = np.vstack((ei_r1.values[0:246,1],ei_r2.values[0:246,1],\n",
    "                  ei_r3.values[0:246,1],ei_r4.values[0:246,1],\n",
    "                  ei_r5.values[0:246,1] ))\n",
    "print(ei_r.shape)"
   ]
  },
  {
   "cell_type": "code",
   "execution_count": 6,
   "metadata": {
    "collapsed": false
   },
   "outputs": [],
   "source": [
    "start_base = 0\n",
    "end_base   = 17\n",
    "\n",
    "start_relax = 23\n",
    "end_relax   = 37\n",
    "\n",
    "start_attent = 43\n",
    "end_attent   = 57\n",
    "\n",
    "start_base_id = int(ei.loc[ei['Time (s)'] == start_base].index[0])\n",
    "end_base_id = int(ei.loc[ei['Time (s)'] == end_base].index[0])\n",
    "\n",
    "start_relax_id = int(ei.loc[ei['Time (s)'] == start_relax].index[0])\n",
    "end_relax_id = int(ei.loc[ei['Time (s)'] == end_relax].index[0])\n",
    "\n",
    "start_attent_id = int(ei.loc[ei['Time (s)'] == start_attent].index[0])\n",
    "end_attent_id = int(ei.loc[ei['Time (s)'] == end_attent].index[0])\n",
    "\n"
   ]
  },
  {
   "cell_type": "code",
   "execution_count": 7,
   "metadata": {
    "collapsed": true
   },
   "outputs": [],
   "source": [
    "base = ei_r[:,start_base_id:end_base_id]\n",
    "rela = ei_r[:,start_relax_id:end_relax_id]\n",
    "atte = ei_r[:,start_attent_id:end_attent_id]"
   ]
  },
  {
   "cell_type": "code",
   "execution_count": 86,
   "metadata": {
    "collapsed": true
   },
   "outputs": [],
   "source": [
    "base = ei_r4_normed[:,start_base_id:end_base_id]\n",
    "rela = ei_r4_normed[:,start_relax_id:end_relax_id]\n",
    "atte = ei_r4_normed[:,start_attent_id:end_attent_id]"
   ]
  },
  {
   "cell_type": "code",
   "execution_count": 91,
   "metadata": {
    "collapsed": false
   },
   "outputs": [],
   "source": [
    "base = ei_r4.values[start_base_id:end_base_id,1]\n",
    "rela = ei_r4.values[start_relax_id:end_relax_id,1]\n",
    "atte = ei_r4.values[start_attent_id:end_attent_id,1]"
   ]
  },
  {
   "cell_type": "code",
   "execution_count": 9,
   "metadata": {
    "collapsed": false
   },
   "outputs": [
    {
     "ename": "NameError",
     "evalue": "name 'stats' is not defined",
     "output_type": "error",
     "traceback": [
      "\u001b[1;31m---------------------------------------------------------------------------\u001b[0m",
      "\u001b[1;31mNameError\u001b[0m                                 Traceback (most recent call last)",
      "\u001b[1;32m<ipython-input-9-81d81ebc1c79>\u001b[0m in \u001b[0;36m<module>\u001b[1;34m()\u001b[0m\n\u001b[0;32m      1\u001b[0m \u001b[1;31m#Malek\u001b[0m\u001b[1;33m\u001b[0m\u001b[1;33m\u001b[0m\u001b[0m\n\u001b[1;32m----> 2\u001b[1;33m \u001b[0mprint\u001b[0m\u001b[1;33m(\u001b[0m\u001b[0mstats\u001b[0m\u001b[1;33m.\u001b[0m\u001b[0mttest_ind\u001b[0m\u001b[1;33m(\u001b[0m\u001b[0mbase\u001b[0m\u001b[1;33m.\u001b[0m\u001b[0mravel\u001b[0m\u001b[1;33m(\u001b[0m\u001b[1;33m)\u001b[0m\u001b[1;33m,\u001b[0m \u001b[0mrela\u001b[0m\u001b[1;33m.\u001b[0m\u001b[0mravel\u001b[0m\u001b[1;33m(\u001b[0m\u001b[1;33m)\u001b[0m\u001b[1;33m)\u001b[0m\u001b[1;33m)\u001b[0m\u001b[1;33m\u001b[0m\u001b[0m\n\u001b[0m\u001b[0;32m      3\u001b[0m \u001b[0mprint\u001b[0m\u001b[1;33m(\u001b[0m\u001b[0mstats\u001b[0m\u001b[1;33m.\u001b[0m\u001b[0mttest_ind\u001b[0m\u001b[1;33m(\u001b[0m\u001b[0mbase\u001b[0m\u001b[1;33m.\u001b[0m\u001b[0mravel\u001b[0m\u001b[1;33m(\u001b[0m\u001b[1;33m)\u001b[0m\u001b[1;33m,\u001b[0m \u001b[0matte\u001b[0m\u001b[1;33m.\u001b[0m\u001b[0mravel\u001b[0m\u001b[1;33m(\u001b[0m\u001b[1;33m)\u001b[0m\u001b[1;33m)\u001b[0m\u001b[1;33m)\u001b[0m\u001b[1;33m\u001b[0m\u001b[0m\n\u001b[0;32m      4\u001b[0m \u001b[0mprint\u001b[0m\u001b[1;33m(\u001b[0m\u001b[0mstats\u001b[0m\u001b[1;33m.\u001b[0m\u001b[0mttest_ind\u001b[0m\u001b[1;33m(\u001b[0m\u001b[0mrela\u001b[0m\u001b[1;33m.\u001b[0m\u001b[0mravel\u001b[0m\u001b[1;33m(\u001b[0m\u001b[1;33m)\u001b[0m\u001b[1;33m,\u001b[0m \u001b[0matte\u001b[0m\u001b[1;33m.\u001b[0m\u001b[0mravel\u001b[0m\u001b[1;33m(\u001b[0m\u001b[1;33m)\u001b[0m\u001b[1;33m)\u001b[0m\u001b[1;33m)\u001b[0m\u001b[1;33m\u001b[0m\u001b[0m\n",
      "\u001b[1;31mNameError\u001b[0m: name 'stats' is not defined"
     ]
    }
   ],
   "source": [
    "#Malek\n",
    "print(stats.ttest_ind(base.ravel(), rela.ravel()))\n",
    "print(stats.ttest_ind(base.ravel(), atte.ravel()))\n",
    "print(stats.ttest_ind(rela.ravel(), atte.ravel()))"
   ]
  },
  {
   "cell_type": "code",
   "execution_count": 8,
   "metadata": {
    "collapsed": false
   },
   "outputs": [
    {
     "ename": "NameError",
     "evalue": "name 'stats' is not defined",
     "output_type": "error",
     "traceback": [
      "\u001b[1;31m---------------------------------------------------------------------------\u001b[0m",
      "\u001b[1;31mNameError\u001b[0m                                 Traceback (most recent call last)",
      "\u001b[1;32m<ipython-input-8-17e56b899f32>\u001b[0m in \u001b[0;36m<module>\u001b[1;34m()\u001b[0m\n\u001b[0;32m      1\u001b[0m \u001b[1;32mfor\u001b[0m \u001b[0mi\u001b[0m \u001b[1;32min\u001b[0m \u001b[0mrange\u001b[0m\u001b[1;33m(\u001b[0m\u001b[0mlen\u001b[0m\u001b[1;33m(\u001b[0m\u001b[0mei_r\u001b[0m\u001b[1;33m[\u001b[0m\u001b[1;33m:\u001b[0m\u001b[1;33m,\u001b[0m\u001b[1;36m0\u001b[0m\u001b[1;33m]\u001b[0m\u001b[1;33m)\u001b[0m\u001b[1;33m)\u001b[0m\u001b[1;33m:\u001b[0m\u001b[1;33m\u001b[0m\u001b[0m\n\u001b[1;32m----> 2\u001b[1;33m     \u001b[0mprint\u001b[0m\u001b[1;33m(\u001b[0m\u001b[1;34m'base vs rela {}: '\u001b[0m\u001b[1;33m.\u001b[0m\u001b[0mformat\u001b[0m\u001b[1;33m(\u001b[0m\u001b[0mi\u001b[0m\u001b[1;33m)\u001b[0m\u001b[1;33m,\u001b[0m\u001b[0mstats\u001b[0m\u001b[1;33m.\u001b[0m\u001b[0mttest_ind\u001b[0m\u001b[1;33m(\u001b[0m\u001b[0mbase\u001b[0m\u001b[1;33m[\u001b[0m\u001b[0mi\u001b[0m\u001b[1;33m]\u001b[0m\u001b[1;33m,\u001b[0m \u001b[0mrela\u001b[0m\u001b[1;33m[\u001b[0m\u001b[0mi\u001b[0m\u001b[1;33m]\u001b[0m\u001b[1;33m)\u001b[0m\u001b[1;33m[\u001b[0m\u001b[1;36m1\u001b[0m\u001b[1;33m]\u001b[0m\u001b[1;33m)\u001b[0m\u001b[1;33m\u001b[0m\u001b[0m\n\u001b[0m\u001b[0;32m      3\u001b[0m     \u001b[0mprint\u001b[0m\u001b[1;33m(\u001b[0m\u001b[1;34m'base vs atte {}: '\u001b[0m\u001b[1;33m.\u001b[0m\u001b[0mformat\u001b[0m\u001b[1;33m(\u001b[0m\u001b[0mi\u001b[0m\u001b[1;33m)\u001b[0m\u001b[1;33m,\u001b[0m\u001b[0mstats\u001b[0m\u001b[1;33m.\u001b[0m\u001b[0mttest_ind\u001b[0m\u001b[1;33m(\u001b[0m\u001b[0mbase\u001b[0m\u001b[1;33m[\u001b[0m\u001b[0mi\u001b[0m\u001b[1;33m]\u001b[0m\u001b[1;33m,\u001b[0m \u001b[0matte\u001b[0m\u001b[1;33m[\u001b[0m\u001b[0mi\u001b[0m\u001b[1;33m]\u001b[0m\u001b[1;33m)\u001b[0m\u001b[1;33m[\u001b[0m\u001b[1;36m1\u001b[0m\u001b[1;33m]\u001b[0m\u001b[1;33m)\u001b[0m\u001b[1;33m\u001b[0m\u001b[0m\n\u001b[0;32m      4\u001b[0m     \u001b[0mprint\u001b[0m\u001b[1;33m(\u001b[0m\u001b[1;34m'rela vs atte {}: '\u001b[0m\u001b[1;33m.\u001b[0m\u001b[0mformat\u001b[0m\u001b[1;33m(\u001b[0m\u001b[0mi\u001b[0m\u001b[1;33m)\u001b[0m\u001b[1;33m,\u001b[0m\u001b[0mstats\u001b[0m\u001b[1;33m.\u001b[0m\u001b[0mttest_ind\u001b[0m\u001b[1;33m(\u001b[0m\u001b[0mrela\u001b[0m\u001b[1;33m[\u001b[0m\u001b[0mi\u001b[0m\u001b[1;33m]\u001b[0m\u001b[1;33m,\u001b[0m \u001b[0matte\u001b[0m\u001b[1;33m[\u001b[0m\u001b[0mi\u001b[0m\u001b[1;33m]\u001b[0m\u001b[1;33m)\u001b[0m\u001b[1;33m[\u001b[0m\u001b[1;36m1\u001b[0m\u001b[1;33m]\u001b[0m\u001b[1;33m,\u001b[0m \u001b[1;34m'\\n'\u001b[0m\u001b[1;33m)\u001b[0m\u001b[1;33m\u001b[0m\u001b[0m\n",
      "\u001b[1;31mNameError\u001b[0m: name 'stats' is not defined"
     ]
    }
   ],
   "source": [
    "for i in range(len(ei_r[:,0])):\n",
    "    print('base vs rela {}: '.format(i),stats.ttest_ind(base[i], rela[i])[1])\n",
    "    print('base vs atte {}: '.format(i),stats.ttest_ind(base[i], atte[i])[1])\n",
    "    print('rela vs atte {}: '.format(i),stats.ttest_ind(rela[i], atte[i])[1], '\\n')"
   ]
  },
  {
   "cell_type": "code",
   "execution_count": 9,
   "metadata": {
    "collapsed": false
   },
   "outputs": [
    {
     "name": "stdout",
     "output_type": "stream",
     "text": [
      "Ttest_indResult(statistic=3.659798088858289, pvalue=0.0003324475247048239)\n"
     ]
    }
   ],
   "source": [
    "j = 4\n",
    "print(stats.ttest_ind(np.hstack((base[j,:], atte[j,:])).ravel(), rela[j,:].ravel()))"
   ]
  },
  {
   "cell_type": "code",
   "execution_count": 10,
   "metadata": {
    "collapsed": false
   },
   "outputs": [
    {
     "name": "stdout",
     "output_type": "stream",
     "text": [
      "Ttest_indResult(statistic=4.583071506374184, pvalue=5.230092388559176e-06)\n"
     ]
    }
   ],
   "source": [
    "print(stats.ttest_ind(np.hstack((base[:], atte[:])).ravel(), rela[:].ravel()))"
   ]
  },
  {
   "cell_type": "code",
   "execution_count": 11,
   "metadata": {
    "collapsed": false
   },
   "outputs": [
    {
     "name": "stderr",
     "output_type": "stream",
     "text": [
      "C:\\Users\\Chris\\Anaconda3\\lib\\site-packages\\scipy\\stats\\_continuous_distns.py:437: RuntimeWarning: invalid value encountered in sqrt\n",
      "  sk = 2*(b-a)*np.sqrt(a + b + 1) / (a + b + 2) / np.sqrt(a*b)\n",
      "C:\\Users\\Chris\\Anaconda3\\lib\\site-packages\\scipy\\optimize\\minpack.py:163: RuntimeWarning: The iteration is not making good progress, as measured by the \n",
      "  improvement from the last ten iterations.\n",
      "  warnings.warn(msg, RuntimeWarning)\n"
     ]
    }
   ],
   "source": [
    "from scipy.stats import beta\n",
    "#params1 = beta.fit(np.hstack((rela, base)).ravel())\n",
    "params1 = beta.fit(rela.ravel())\n",
    "params2 = beta.fit(np.hstack((base,atte)).ravel())\n"
   ]
  },
  {
   "cell_type": "code",
   "execution_count": 1,
   "metadata": {
    "collapsed": false
   },
   "outputs": [
    {
     "ename": "NameError",
     "evalue": "name 'plt' is not defined",
     "output_type": "error",
     "traceback": [
      "\u001b[1;31m---------------------------------------------------------------------------\u001b[0m",
      "\u001b[1;31mNameError\u001b[0m                                 Traceback (most recent call last)",
      "\u001b[1;32m<ipython-input-1-187f6f7a71c7>\u001b[0m in \u001b[0;36m<module>\u001b[1;34m()\u001b[0m\n\u001b[0;32m      1\u001b[0m \u001b[1;31m#plt.hist([rela.ravel(), atte.ravel()], bins=30,label=['relaxed','base/atte'], density=True)\u001b[0m\u001b[1;33m\u001b[0m\u001b[1;33m\u001b[0m\u001b[0m\n\u001b[0;32m      2\u001b[0m \u001b[0midx_\u001b[0m\u001b[1;33m=\u001b[0m\u001b[1;36m4\u001b[0m\u001b[1;33m\u001b[0m\u001b[0m\n\u001b[1;32m----> 3\u001b[1;33m plt.hist([np.hstack((rela[idx_,:])).ravel(), np.hstack((base[idx_,:],atte[idx_,:])).ravel()], \n\u001b[0m\u001b[0;32m      4\u001b[0m          bins=30,label=['rela','base/atte'],density=True)\n\u001b[0;32m      5\u001b[0m \u001b[1;31m#plt.hist([rela.ravel(),np.hstack((base, atte)).ravel()], bins=30, label=['relaxed','base/atte'], density=True)\u001b[0m\u001b[1;33m\u001b[0m\u001b[1;33m\u001b[0m\u001b[0m\n",
      "\u001b[1;31mNameError\u001b[0m: name 'plt' is not defined"
     ]
    }
   ],
   "source": [
    "#plt.hist([rela.ravel(), atte.ravel()], bins=30,label=['relaxed','base/atte'], density=True)\n",
    "idx_=4\n",
    "plt.hist([np.hstack((rela[idx_,:])).ravel(), np.hstack((base[idx_,:],atte[idx_,:])).ravel()], \n",
    "         bins=30,label=['rela','base/atte'],density=True)\n",
    "#plt.hist([rela.ravel(),np.hstack((base, atte)).ravel()], bins=30, label=['relaxed','base/atte'], density=True)\n",
    "\n",
    "#x=np.linspace(0,0.2,40)\n",
    "x=np.linspace(0,2.5,40)\n",
    "plt.plot(x,beta.pdf(x,params1[0], params1[1], loc=params1[2], scale=params1[3]), label='fitted relaxed')\n",
    "plt.plot(x,beta.pdf(x,params2[0], params2[1], loc=params2[2], scale=params2[3]), label='fitted base/atte')\n",
    "\n",
    "#thres = np.percentile(np.hstack((base[idx_,:], atte[idx_,:])).ravel(),90)\n",
    "thres = np.percentile(np.hstack((rela[idx_,:])).ravel(),90)\n",
    "print('percentile_10 threshold: \\t\\t', thres)\n",
    "tail_prob_rel = 1-beta.cdf(thres,params1[0], params1[1], loc=params1[2], scale=params1[3])\n",
    "tail_prob_bas = 1-beta.cdf(thres,params2[0], params2[1], loc=params2[2], scale=params2[3])\n",
    "print('remaining tail_prob relaxed: \\t\\t', tail_prob_rel)\n",
    "print('remaining tail_prob base/at: \\t\\t', tail_prob_bas)\n",
    "print('Engagement discrimination factor: \\t', tail_prob_bas/tail_prob_rel)\n",
    "\n",
    "plt.annotate('Threshold: {}\\nEDF: {}'.format(np.round(thres,3), np.round(tail_prob_bas / tail_prob_rel,2)), \n",
    "             (2.1,1.4))\n",
    "\n",
    "plt.vlines(thres,0,1.5,color='black', label='threshold')\n",
    "plt.plot(thres,1.5,'o', color='black')\n",
    "plt.ylim([0,2.5])\n",
    "plt.xlabel('Engagement Index')\n",
    "plt.ylabel('Relative probability density')\n",
    "plt.legend()\n",
    "#plt.title('Engagement indices during calibration trial - normalized')\n",
    "plt.show()"
   ]
  },
  {
   "cell_type": "code",
   "execution_count": 26,
   "metadata": {
    "collapsed": false
   },
   "outputs": [],
   "source": [
    "\n",
    "pred_man_rela = np.zeros((len(rela[0,:]),1))\n",
    "pred_man_rela[rela[4,:]> thres] = 1\n",
    "\n",
    "pred_man_base = np.zeros((len(base[0,:]),1))\n",
    "pred_man_base[base[4,:]> thres] = 1\n",
    "\n",
    "pred_man_atte = np.zeros((len(atte[0,:]),1))\n",
    "pred_man_atte[atte[4,:]> thres] = 1\n",
    "\n",
    "pred_man = np.vstack((pred_man_rela, pred_man_base, pred_man_atte))\n"
   ]
  },
  {
   "cell_type": "code",
   "execution_count": 27,
   "metadata": {
    "collapsed": true
   },
   "outputs": [],
   "source": [
    "gt = np.zeros(((len(rela[0,:]) + len(base[0,:]) + len(atte[0,:])),1))\n",
    "gt[len(rela[0,:])::] = 1"
   ]
  },
  {
   "cell_type": "code",
   "execution_count": 28,
   "metadata": {
    "collapsed": false
   },
   "outputs": [
    {
     "data": {
      "text/plain": [
       "array([[ 55,   1],\n",
       "       [111,  13]], dtype=int64)"
      ]
     },
     "execution_count": 28,
     "metadata": {},
     "output_type": "execute_result"
    }
   ],
   "source": [
    "from sklearn.metrics import confusion_matrix\n",
    "\n",
    "confusion_matrix(gt, pred_man)\n",
    "\n"
   ]
  },
  {
   "cell_type": "code",
   "execution_count": 36,
   "metadata": {
    "collapsed": false
   },
   "outputs": [
    {
     "data": {
      "image/png": "[encoded data removed]",
      "text/plain": [
       "<Figure size 432x288 with 1 Axes>"
      ]
     },
     "metadata": {},
     "output_type": "display_data"
    }
   ],
   "source": [
    "#thres_arr = np.linspace(0,0.15,10)\n",
    "thres_arr = np.linspace(0,3,10)\n",
    "\n",
    "tpr = []\n",
    "fnr = []\n",
    "\n",
    "for j in range(len(rela[:,0])):\n",
    "    tpr_sub = []\n",
    "    for i in range(len(thres_arr)):\n",
    "        pred_man_rela = np.zeros((len(rela[j,:]),1))\n",
    "        pred_man_rela[rela[j,:]> thres_arr[i]] = 1\n",
    "\n",
    "        pred_man_base = np.zeros((len(base[j,:]),1))\n",
    "        pred_man_base[base[j,:]> thres_arr[i]] = 1\n",
    "\n",
    "        pred_man_atte = np.zeros((len(atte[j,:]),1))\n",
    "        pred_man_atte[atte[j,:]> thres_arr[i]] = 1\n",
    "\n",
    "        pred_man = np.vstack((pred_man_rela, pred_man_base, pred_man_atte))\n",
    "\n",
    "        tp = confusion_matrix(gt, pred_man)[0,0]\n",
    "        fp = confusion_matrix(gt, pred_man)[1,0]\n",
    "        fn = confusion_matrix(gt, pred_man)[0,1]\n",
    "        tn = confusion_matrix(gt, pred_man)[1,1]\n",
    "\n",
    "        tpr_sub.append(tp/(tp+fn))\n",
    "        #tpr.append(tp/(tp+fp)\n",
    "    tpr.append(tpr_sub)\n",
    "        #fnr.append(tn/(tn+fn))\n",
    "        #fnr.append(fn/(tp+fn))\n",
    "    plt.plot(thres_arr,tpr[j][:], label='trial {}'.format(j))\n",
    "\n",
    "    \n",
    "       \n",
    "#plt.plot(thres_arr,tpr, label='tpr')\n",
    "#plt.plot(thres_arr,fnr, label='fnr')\n",
    "\n",
    "#plt.title('Comparison of TPRs across trials of one subject')\n",
    "plt.xlabel('normalized engagement index')\n",
    "plt.ylabel('True positive rate')\n",
    "plt.vlines(thres, 0,1.1,linestyles='--', color='orange', label='Threshold')\n",
    "plt.hlines(1,0,3, linestyles='--', color='gray', label='TPR=1')\n",
    "plt.legend(loc=4)\n",
    "plt.annotate('Threshold: {}'.format(np.round(thres,3)),(1.35,0.8), color='black')\n",
    "plt.show()\n",
    "\n",
    "#plt tpr vs fnr\n",
    "#https://en.wikipedia.org/wiki/F1_score"
   ]
  }
 ],
 "metadata": {
  "kernelspec": {
   "display_name": "Python [conda env:Anaconda3]",
   "language": "python",
   "name": "conda-env-Anaconda3-py"
  },
  "language_info": {
   "codemirror_mode": {
    "name": "ipython",
    "version": 3
   },
   "file_extension": ".py",
   "mimetype": "text/x-python",
   "name": "python",
   "nbconvert_exporter": "python",
   "pygments_lexer": "ipython3",
   "version": "3.5.6"
  },
  "toc": {
   "base_numbering": 1,
   "nav_menu": {},
   "number_sections": true,
   "sideBar": true,
   "skip_h1_title": false,
   "title_cell": "Table of Contents",
   "title_sidebar": "Contents",
   "toc_cell": true,
   "toc_position": {},
   "toc_section_display": true,
   "toc_window_display": false
  }
 },
 "nbformat": 4,
 "nbformat_minor": 2
}
