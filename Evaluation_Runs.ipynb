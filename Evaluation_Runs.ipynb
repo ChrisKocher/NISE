{
 "cells": [
  {
   "cell_type": "markdown",
   "metadata": {
    "toc": true
   },
   "source": [
    "<h1>Table of Contents<span class=\"tocSkip\"></span></h1>\n",
    "<div class=\"toc\"><ul class=\"toc-item\"></ul></div>"
   ]
  },
  {
   "cell_type": "code",
   "execution_count": 59,
   "metadata": {
    "collapsed": false
   },
   "outputs": [],
   "source": [
    "import pandas as pd\n",
    "import numpy as np\n",
    "import matplotlib.pyplot as plt\n",
    "%matplotlib inline\n",
    "import scipy\n",
    "from scipy.stats import ttest_ind"
   ]
  },
  {
   "cell_type": "code",
   "execution_count": 186,
   "metadata": {
    "collapsed": false
   },
   "outputs": [],
   "source": [
    "random_raw = pd.read_csv('Data Jumping/TimeData_random03.txt', header=None)\n",
    "#random_raw = pd.read_csv('Data Jumping/TimeData_random005.txt', header=None)\n",
    "raja29_raw = pd.read_csv('Data Jumping/TimeData_raja29.txt', header=None)\n",
    "raja35_raw = pd.read_csv('Data Jumping/TimeData_raja35.txt', header=None)\n",
    "nicolas21_raw = pd.read_csv('Data Jumping/TimeData_nicolas21.txt', header=None)\n",
    "james20_raw = pd.read_csv('Data Jumping/TimeData_james20.txt', header=None)\n",
    "james36_raw = pd.read_csv('Data Jumping/TimeData_james36.txt', header=None)"
   ]
  },
  {
   "cell_type": "code",
   "execution_count": 187,
   "metadata": {
    "collapsed": false
   },
   "outputs": [],
   "source": [
    "randomTimes = np.unique(random_raw.values[:,0])\n",
    "randomTimes = np.delete(randomTimes, np.where(randomTimes<75))\n",
    "raja29 = np.unique(raja29_raw.values[:,0])\n",
    "raja35 = np.unique(raja35_raw.values[:,0])\n",
    "nicolas21 = np.unique(nicolas21_raw.values[:,0])\n",
    "james20 = np.unique(james20_raw.values[:,0])\n",
    "james36 = np.unique(james36_raw.values[:,0])"
   ]
  },
  {
   "cell_type": "code",
   "execution_count": 188,
   "metadata": {
    "collapsed": false
   },
   "outputs": [
    {
     "name": "stdout",
     "output_type": "stream",
     "text": [
      "Ttest_indResult(statistic=-0.16771406276359913, pvalue=0.8675945445127304)\n",
      "Ttest_indResult(statistic=0.4253676800094504, pvalue=0.6727403378033876)\n",
      "Ttest_indResult(statistic=1.337871204508021, pvalue=0.18831216179327007)\n",
      "Ttest_indResult(statistic=0.7252177279817624, pvalue=0.47215801800399815)\n",
      "Ttest_indResult(statistic=-0.38478474454616335, pvalue=0.702250580862667)\n"
     ]
    }
   ],
   "source": [
    "print(ttest_ind(randomTimes, raja29))\n",
    "print(ttest_ind(randomTimes, raja35))\n",
    "print(ttest_ind(randomTimes, nicolas21))\n",
    "print(ttest_ind(randomTimes, james20))\n",
    "print(ttest_ind(randomTimes, james36))\n"
   ]
  },
  {
   "cell_type": "code",
   "execution_count": 189,
   "metadata": {
    "collapsed": false
   },
   "outputs": [
    {
     "name": "stdout",
     "output_type": "stream",
     "text": [
      "[77.99526 82.94505 89.98676999999999 113.9536]\n",
      "[85.07238000000001 90.20555999999999 90.23324000000001]\n",
      "[79.92472 85.91866]\n",
      "[83.65852 85.77001 86.3649 88.75944 94.70389]\n",
      "[84.70921 91.25235 92.63342 94.51725 96.10999]\n"
     ]
    }
   ],
   "source": [
    "print(raja29)\n",
    "print(raja35)\n",
    "print(nicolas21)\n",
    "print(james20)\n",
    "print(james36)"
   ]
  },
  {
   "cell_type": "code",
   "execution_count": 190,
   "metadata": {
    "collapsed": false
   },
   "outputs": [],
   "source": [
    "from scipy.stats import norm\n",
    "\n",
    "params = norm.fit(randomTimes)\n",
    "\n",
    "cdf_temp_james=0\n",
    "for i in range(len(james20)):\n",
    "    cdf_temp_james += norm.cdf(james20[i],params[0], params[1])\n",
    "tail_james = np.round(cdf_temp_james/len(james20),2)*100\n",
    "\n",
    "cdf_temp_raja=0\n",
    "for i in range(len(raja29)):\n",
    "    cdf_temp_raja += norm.cdf(raja29[i],params[0], params[1])\n",
    "tail_raja = np.round(cdf_temp_raja/len(raja29),2)*100\n",
    "\n",
    "cdf_temp_nicolas=0\n",
    "for i in range(len(nicolas21)):\n",
    "    cdf_temp_nicolas += norm.cdf(nicolas21[i],params[0], params[1])\n",
    "tail_nicolas = np.round(cdf_temp_nicolas/len(nicolas21),2)*100"
   ]
  },
  {
   "cell_type": "code",
   "execution_count": 191,
   "metadata": {
    "collapsed": false
   },
   "outputs": [
    {
     "data": {
      "image/png": "[encoded data removed]",
      "text/plain": [
       "<Figure size 432x288 with 2 Axes>"
      ]
     },
     "metadata": {},
     "output_type": "display_data"
    }
   ],
   "source": [
    "ax1 = plt.subplot(111)\n",
    "ax1.hist([randomTimes, james20, raja29[0:2], nicolas21],\n",
    "         bins=10, label=['Random trials, $\\\\mu$:{}, $\\\\sigma$:{}'.format(np.round(params[0],1),\n",
    "                                                                        np.round(params[1],1)),\n",
    "                         'Subject1, tail_cdf={}%'.format(tail_james),\n",
    "                         'Subject2, tail_cdf={}%'.format(tail_raja), \n",
    "                         'Subject3, tail_cdf={}%'.format(tail_nicolas)])\n",
    "ax2 = ax1.twinx()\n",
    "x = np.linspace(70,120,30)\n",
    "ax2.plot(x, norm.pdf(x, params[0], params[1]))\n",
    "#plt.title('Runs of three subjects tested against random runs')\n",
    "ax1.set_xlabel('Trial duration')\n",
    "ax1.set_ylabel('Number of occurences')\n",
    "#ax2.set_ylabel('Probability')\n",
    "ax2.set_yticks([],[])\n",
    "ax2.set_ylim([0,0.08])\n",
    "ax1.set_ylim([0,14])\n",
    "ax1.legend()\n",
    "plt.show()"
   ]
  },
  {
   "cell_type": "code",
   "execution_count": 192,
   "metadata": {
    "collapsed": false
   },
   "outputs": [
    {
     "data": {
      "image/png": "[encoded data removed]",
      "text/plain": [
       "<Figure size 432x288 with 1 Axes>"
      ]
     },
     "metadata": {},
     "output_type": "display_data"
    }
   ],
   "source": [
    "plt.hist([randomTimes, james20, james36], bins=10, label=['Random Trials',\n",
    "                                                          'Subject 1, low thres', 'Subject 1, high thres'])\n",
    "#plt.title('Runs of one subject with two different thresholds \\ncompared to random runs')\n",
    "plt.xlabel('Trial duration')\n",
    "plt.ylabel('Number of occurences')\n",
    "plt.legend()\n",
    "plt.show()"
   ]
  },
  {
   "cell_type": "code",
   "execution_count": null,
   "metadata": {
    "collapsed": true
   },
   "outputs": [],
   "source": []
  }
 ],
 "metadata": {
  "kernelspec": {
   "display_name": "Python [default]",
   "language": "python",
   "name": "python3"
  },
  "language_info": {
   "codemirror_mode": {
    "name": "ipython",
    "version": 3
   },
   "file_extension": ".py",
   "mimetype": "text/x-python",
   "name": "python",
   "nbconvert_exporter": "python",
   "pygments_lexer": "ipython3",
   "version": "3.5.6"
  },
  "toc": {
   "base_numbering": 1,
   "nav_menu": {},
   "number_sections": true,
   "sideBar": true,
   "skip_h1_title": false,
   "title_cell": "Table of Contents",
   "title_sidebar": "Contents",
   "toc_cell": true,
   "toc_position": {},
   "toc_section_display": true,
   "toc_window_display": false
  }
 },
 "nbformat": 4,
 "nbformat_minor": 2
}
